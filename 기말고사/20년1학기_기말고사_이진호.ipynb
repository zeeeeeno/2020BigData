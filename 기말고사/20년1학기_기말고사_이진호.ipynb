{
  "nbformat": 4,
  "nbformat_minor": 0,
  "metadata": {
    "colab": {
      "name": "20년1학기-기말고사.ipynb",
      "provenance": [],
      "collapsed_sections": []
    },
    "kernelspec": {
      "name": "python3",
      "display_name": "Python 3"
    }
  },
  "cells": [
    {
      "cell_type": "markdown",
      "metadata": {
        "id": "USdoQTkkAfiU",
        "colab_type": "text"
      },
      "source": [
        "# 2020년 1학기 기말시험"
      ]
    },
    {
      "cell_type": "markdown",
      "metadata": {
        "id": "Yg0l6Iz-NbQX",
        "colab_type": "text"
      },
      "source": [
        "# 이름 : your name here(더블 클릭)"
      ]
    },
    {
      "cell_type": "markdown",
      "metadata": {
        "id": "dde2pQdBKaXE",
        "colab_type": "text"
      },
      "source": [
        "https://colab.research.google.com/에 import하여 셀에 답을 적고 RUN하십시오. 출력한 결과에 따라 스코어링됩니다."
      ]
    },
    {
      "cell_type": "markdown",
      "metadata": {
        "id": "vytowRjHlN1F",
        "colab_type": "text"
      },
      "source": [
        "Q1. CNN 신경망에서 2D 컨볼루션 레이어를 거친 행렬의 값을 파이썬 array형태로 적으시오. 계산을 위해 계산기앱 또는 액셀을 사용해도 좋습니다.\n"
      ]
    },
    {
      "cell_type": "code",
      "metadata": {
        "id": "vO3cm719mB64",
        "colab_type": "code",
        "colab": {
          "base_uri": "https://localhost:8080/",
          "height": 52
        },
        "outputId": "8a699a0a-5e32-4456-a4ab-6c8d19f38236"
      },
      "source": [
        "\"\"\" 문제\n",
        "x = [[1,2,3],\n",
        "     [4,5,6],\n",
        "     [7,8,9]]\n",
        "     \n",
        "kernel W =[[0,1],\n",
        "          [1,0]]\n",
        "\n",
        "Padding = VALID\n",
        "\n",
        "convolution을 한 결과를 행렬 y로 하여 print(y)로 출력하시오.\n",
        "\"\"\"\n",
        "import numpy as np\n",
        "y = np.array([[6,8],[12,14]])  # 여러분의 answer를 파이썬 어레이로 적고 Run하시오.\n",
        "print(y)"
      ],
      "execution_count": 67,
      "outputs": [
        {
          "output_type": "stream",
          "text": [
            "[[ 6  8]\n",
            " [12 14]]\n"
          ],
          "name": "stdout"
        }
      ]
    },
    {
      "cell_type": "markdown",
      "metadata": {
        "id": "ntyM0f5Rgq5t",
        "colab_type": "text"
      },
      "source": [
        "Q2, 아래의 Confusion Matrix를 보고 질문에 답하시오"
      ]
    },
    {
      "cell_type": "code",
      "metadata": {
        "id": "cjqJY4QkYg55",
        "colab_type": "code",
        "outputId": "5b9c309b-f0ee-4652-dabd-051c1f33ac68",
        "colab": {
          "base_uri": "https://localhost:8080/",
          "height": 314
        }
      },
      "source": [
        "# 문제 : 아래의 혼동행렬을 보고 TPR과 FNR을 계산하시오. 단 계산하는 공식을 파이썬으로 코딩하여 값을 구하시오.\n",
        "# 혼동행렬의 row는 실제값, column은 예측값, (1,1)이 True & Positive\n",
        "# 정의 : TPR = True Postive rate, FNR = False Negative rate\n",
        "import seaborn as sn\n",
        "import pandas as pd\n",
        "import matplotlib.pyplot as plt\n",
        "import numpy as np\n",
        "\n",
        "array = np.array([[850,6],\n",
        "                  [50,94]])         \n",
        "\n",
        "sn.set(font_scale=2.0) # for label size\n",
        "sn.heatmap(array, annot=True, annot_kws={\"size\": 18}, fmt='d') # font size\n",
        "\n",
        "plt.show()"
      ],
      "execution_count": 3,
      "outputs": [
        {
          "output_type": "stream",
          "text": [
            "/usr/local/lib/python3.6/dist-packages/statsmodels/tools/_testing.py:19: FutureWarning: pandas.util.testing is deprecated. Use the functions in the public API at pandas.testing instead.\n",
            "  import pandas.util.testing as tm\n"
          ],
          "name": "stderr"
        },
        {
          "output_type": "display_data",
          "data": {
            "image/png": "[encoded data removed]",
            "text/plain": [
              "<Figure size 432x288 with 2 Axes>"
            ]
          },
          "metadata": {
            "tags": []
          }
        }
      ]
    },
    {
      "cell_type": "code",
      "metadata": {
        "id": "1cwqB8OwUa36",
        "colab_type": "code",
        "outputId": "aca8e2af-fb4c-415a-ddc5-120c87f3363e",
        "colab": {
          "base_uri": "https://localhost:8080/",
          "height": 34
        }
      },
      "source": [
        "# Q2.1 TPR=?  아래에 계산식을 쓰고 Run 시키시오\n",
        "# 여러분의 코드 \n",
        "array = np.array(array)\n",
        "tpr=array[0,0]/(array[0,0]+array[0,1])\n",
        "print('TPR값은 :', tpr)"
      ],
      "execution_count": 40,
      "outputs": [
        {
          "output_type": "stream",
          "text": [
            "TPR값은 : 0.9929906542056075\n"
          ],
          "name": "stdout"
        }
      ]
    },
    {
      "cell_type": "code",
      "metadata": {
        "id": "BzOe-Zgqkgdc",
        "colab_type": "code",
        "colab": {
          "base_uri": "https://localhost:8080/",
          "height": 34
        },
        "outputId": "90b28624-baaf-47c8-a97c-d6b9520b45b0"
      },
      "source": [
        "# Q2.2 FNR 계산을 위한 코드를 쓰고  Run하시오\n",
        "# 여러분의 코드 \n",
        "array = np.array(array)\n",
        "fnr=array[1,0]/(array[0,0]+array[1,0])\n",
        "print('FNR값은 :', fnr)"
      ],
      "execution_count": 38,
      "outputs": [
        {
          "output_type": "stream",
          "text": [
            "FNR값은 : 0.05555555555555555\n"
          ],
          "name": "stdout"
        }
      ]
    },
    {
      "cell_type": "code",
      "metadata": {
        "id": "TK_zjLxMEiVM",
        "colab_type": "code",
        "colab": {
          "base_uri": "https://localhost:8080/",
          "height": 34
        },
        "outputId": "b1912edd-3fcd-424e-8b48-7b068ba7f4fb"
      },
      "source": [
        "#  Q2.3 accurary 계산을 위한 코드를 쓰고  Run하시오\n",
        "# 여러분의 코드\n",
        "array = np.array(array)\n",
        "acc=(array[0,0]+array[1,1])/(array[0,1]+array[1,1]+array[0,0]+array[1,0])\n",
        "print('ACC값은 :', acc)"
      ],
      "execution_count": 39,
      "outputs": [
        {
          "output_type": "stream",
          "text": [
            "ACC값은 : 0.944\n"
          ],
          "name": "stdout"
        }
      ]
    },
    {
      "cell_type": "markdown",
      "metadata": {
        "id": "yukDPytdDmt7",
        "colab_type": "text"
      },
      "source": [
        "\n",
        "Q3. 다음 신경망 다이어그램을 보고 이를 구현하기 위한 파이썬 코드를 완성하시오"
      ]
    },
    {
      "cell_type": "code",
      "metadata": {
        "id": "dbbSoyMeINdZ",
        "colab_type": "code",
        "outputId": "b1fdc695-7462-4ed4-b3bb-5952500386fd",
        "colab": {
          "base_uri": "https://localhost:8080/",
          "height": 548
        }
      },
      "source": [
        "! wget --no-check-certificate 'https://docs.google.com/uc?export=download&id=1jGQthuWngRlgUq7masWosTq1LyzwUAS7' -O 퍼셉트론.png\n",
        "from IPython.display import Image\n",
        "Image(\"퍼셉트론.png\", width=500)  "
      ],
      "execution_count": 64,
      "outputs": [
        {
          "output_type": "stream",
          "text": [
            "--2020-06-10 05:21:21--  https://docs.google.com/uc?export=download&id=1jGQthuWngRlgUq7masWosTq1LyzwUAS7\n",
            "Resolving docs.google.com (docs.google.com)... 64.233.189.100, 64.233.189.101, 64.233.189.102, ...\n",
            "Connecting to docs.google.com (docs.google.com)|64.233.189.100|:443... connected.\n",
            "HTTP request sent, awaiting response... 302 Moved Temporarily\n",
            "Location: https://doc-0s-1s-docs.googleusercontent.com/docs/securesc/ha0ro937gcuc7l7deffksulhg5h7mbp1/f4ualb3f1pnnqjkoi2jiuufo370tp2kn/1591766475000/04591858293269658552/*/1jGQthuWngRlgUq7masWosTq1LyzwUAS7?e=download [following]\n",
            "Warning: wildcards not supported in HTTP.\n",
            "--2020-06-10 05:21:21--  https://doc-0s-1s-docs.googleusercontent.com/docs/securesc/ha0ro937gcuc7l7deffksulhg5h7mbp1/f4ualb3f1pnnqjkoi2jiuufo370tp2kn/1591766475000/04591858293269658552/*/1jGQthuWngRlgUq7masWosTq1LyzwUAS7?e=download\n",
            "Resolving doc-0s-1s-docs.googleusercontent.com (doc-0s-1s-docs.googleusercontent.com)... 64.233.189.132, 2404:6800:4008:c07::84\n",
            "Connecting to doc-0s-1s-docs.googleusercontent.com (doc-0s-1s-docs.googleusercontent.com)|64.233.189.132|:443... connected.\n",
            "HTTP request sent, awaiting response... 200 OK\n",
            "Length: 18076 (18K) [image/png]\n",
            "Saving to: ‘퍼셉트론.png’\n",
            "\n",
            "\r퍼셉트론.png          0%[                    ]       0  --.-KB/s               \r퍼셉트론.png        100%[===================>]  17.65K  --.-KB/s    in 0s      \n",
            "\n",
            "2020-06-10 05:21:21 (72.6 MB/s) - ‘퍼셉트론.png’ saved [18076/18076]\n",
            "\n"
          ],
          "name": "stdout"
        },
        {
          "output_type": "execute_result",
          "data": {
            "image/png": "[encoded data removed]",
            "text/plain": [
              "<IPython.core.display.Image object>"
            ]
          },
          "metadata": {
            "tags": [],
            "image/png": {
              "width": 500
            }
          },
          "execution_count": 64
        }
      ]
    },
    {
      "cell_type": "code",
      "metadata": {
        "id": "wN6S1IvUt6jH",
        "colab_type": "code",
        "colab": {
          "base_uri": "https://localhost:8080/",
          "height": 242
        },
        "outputId": "65776714-2ac1-4e85-f9c5-953e2ff44e89"
      },
      "source": [
        "#Q3. 위의 그림에 맞는 신경망을 코드로 설계하시오.\n",
        "import tensorflow.compat.v1 as tf\n",
        "tf.disable_v2_behavior() \n",
        "\n",
        "n = 500 # ?을 채우시오\n",
        "n_inputs = n  # ?을 채우시오\n",
        "n_hidden = n # ?을 채우시오 \n",
        "n_outputs = 2 # ?을 채우시오  \n",
        "X=tf.placeholder(tf.float64, shape=(None, n_inputs), name='X') # ?을 채우시오\n",
        "\n",
        "with tf.name_scope('nn'):\n",
        "  hidden1 = make_nn_layer('hidden1', n_hidden, X, activation=tf.nn.relu) # ?을 채우시오\n",
        "  outputs = make_nn_layer('outputs', n_outputs, hidden1) # ?을 채우시오"
      ],
      "execution_count": 63,
      "outputs": [
        {
          "output_type": "error",
          "ename": "TypeError",
          "evalue": "ignored",
          "traceback": [
            "\u001b[0;31m---------------------------------------------------------------------------\u001b[0m",
            "\u001b[0;31mTypeError\u001b[0m                                 Traceback (most recent call last)",
            "\u001b[0;32m<ipython-input-63-09c38e711e26>\u001b[0m in \u001b[0;36m<module>\u001b[0;34m()\u001b[0m\n\u001b[1;32m     16\u001b[0m   \u001b[0;32mreturn\u001b[0m \u001b[0mtf\u001b[0m\u001b[0;34m.\u001b[0m\u001b[0mmatmul\u001b[0m \u001b[0;34m(\u001b[0m\u001b[0minput\u001b[0m\u001b[0;34m,\u001b[0m \u001b[0mweights\u001b[0m\u001b[0;34m)\u001b[0m \u001b[0;34m+\u001b[0m \u001b[0mbiases\u001b[0m\u001b[0;34m\u001b[0m\u001b[0;34m\u001b[0m\u001b[0m\n\u001b[1;32m     17\u001b[0m \u001b[0;32mwith\u001b[0m \u001b[0mtf\u001b[0m\u001b[0;34m.\u001b[0m\u001b[0mname_scope\u001b[0m\u001b[0;34m(\u001b[0m\u001b[0;34m'nn'\u001b[0m\u001b[0;34m)\u001b[0m\u001b[0;34m:\u001b[0m\u001b[0;34m\u001b[0m\u001b[0;34m\u001b[0m\u001b[0m\n\u001b[0;32m---> 18\u001b[0;31m   \u001b[0mhidden1\u001b[0m \u001b[0;34m=\u001b[0m \u001b[0mmake_nn_layer\u001b[0m\u001b[0;34m(\u001b[0m\u001b[0;34m'hidden1'\u001b[0m\u001b[0;34m,\u001b[0m \u001b[0mn_hidden\u001b[0m\u001b[0;34m,\u001b[0m \u001b[0mX\u001b[0m\u001b[0;34m,\u001b[0m \u001b[0mactivation\u001b[0m\u001b[0;34m=\u001b[0m\u001b[0mtf\u001b[0m\u001b[0;34m.\u001b[0m\u001b[0mnn\u001b[0m\u001b[0;34m.\u001b[0m\u001b[0mrelu\u001b[0m\u001b[0;34m)\u001b[0m \u001b[0;31m# ?을 채우시오\u001b[0m\u001b[0;34m\u001b[0m\u001b[0;34m\u001b[0m\u001b[0m\n\u001b[0m\u001b[1;32m     19\u001b[0m   \u001b[0moutputs\u001b[0m \u001b[0;34m=\u001b[0m \u001b[0mmake_nn_layer\u001b[0m\u001b[0;34m(\u001b[0m\u001b[0;34m'outputs'\u001b[0m\u001b[0;34m,\u001b[0m \u001b[0mn_outputs\u001b[0m\u001b[0;34m,\u001b[0m \u001b[0mhidden1\u001b[0m\u001b[0;34m)\u001b[0m \u001b[0;31m# ?을 채우시오\u001b[0m\u001b[0;34m\u001b[0m\u001b[0;34m\u001b[0m\u001b[0m\n",
            "\u001b[0;31mTypeError\u001b[0m: make_nn_layer() got an unexpected keyword argument 'activation'"
          ]
        }
      ]
    },
    {
      "cell_type": "markdown",
      "metadata": {
        "id": "lZg0CU3IEoG-",
        "colab_type": "text"
      },
      "source": [
        "Q4. 아래의 표를 보고 Keras 코드를 완성하시오\n"
      ]
    },
    {
      "cell_type": "code",
      "metadata": {
        "id": "e78Ut02SEs6q",
        "colab_type": "code",
        "outputId": "a6d3238d-7251-402d-a89c-91f02bd3a66e",
        "colab": {
          "base_uri": "https://localhost:8080/",
          "height": 54
        }
      },
      "source": [
        "#Q4 표\n",
        "\"\"\"\n",
        "Layer (type)                 Output Shape              Param #   \n",
        "=================================================================\n",
        "conv2d_6 (Conv2D)            (None, 24, 24, 32)        832       \n",
        "_________________________________________________________________\n",
        "max_pooling2d_5 (MaxPooling2 (None, 12, 12, 32)        0         \n",
        "_________________________________________________________________\n",
        "dropout_6 (Dropout)          (None, 12, 12, 32)        0         \n",
        "_________________________________________________________________\n",
        "conv2d_7 (Conv2D)            (None, 10, 10, 64)        18496     \n",
        "_________________________________________________________________\n",
        "max_pooling2d_6 (MaxPooling2 (None, 5, 5, 64)          0         \n",
        "_________________________________________________________________\n",
        "dropout_7 (Dropout)          (None, 5, 5, 64)          0         \n",
        "_________________________________________________________________\n",
        "conv2d_8 (Conv2D)            (None, 5, 5, 128)         8320      \n",
        "_________________________________________________________________\n",
        "max_pooling2d_7 (MaxPooling2 (None, 2, 2, 128)         0         \n",
        "_________________________________________________________________\n",
        "dropout_8 (Dropout)          (None, 2, 2, 128)         0         \n",
        "_________________________________________________________________\n",
        "flatten_3 (Flatten)          (None, 512)               0         \n",
        "_________________________________________________________________\n",
        "dense_5 (Dense)              (None, 128)               65664     \n",
        "_________________________________________________________________\n",
        "dense_6 (Dense)              (None, 10)                1290      \n",
        "=================================================================\n",
        "\n",
        "\"\"\""
      ],
      "execution_count": 0,
      "outputs": [
        {
          "output_type": "execute_result",
          "data": {
            "text/plain": [
              "'\\nLayer (type)                 Output Shape              Param #   \\n=================================================================\\nconv2d_6 (Conv2D)            (None, 24, 24, 32)        832       \\n_________________________________________________________________\\nmax_pooling2d_5 (MaxPooling2 (None, 12, 12, 32)        0         \\n_________________________________________________________________\\ndropout_6 (Dropout)          (None, 12, 12, 32)        0         \\n_________________________________________________________________\\nconv2d_7 (Conv2D)            (None, 10, 10, 64)        18496     \\n_________________________________________________________________\\nmax_pooling2d_6 (MaxPooling2 (None, 5, 5, 64)          0         \\n_________________________________________________________________\\ndropout_7 (Dropout)          (None, 5, 5, 64)          0         \\n_________________________________________________________________\\nconv2d_8 (Conv2D)            (None, 5, 5, 128)         8320      \\n_________________________________________________________________\\nmax_pooling2d_7 (MaxPooling2 (None, 2, 2, 128)         0         \\n_________________________________________________________________\\ndropout_8 (Dropout)          (None, 2, 2, 128)         0         \\n_________________________________________________________________\\nflatten_3 (Flatten)          (None, 512)               0         \\n_________________________________________________________________\\ndense_5 (Dense)              (None, 128)               65664     \\n_________________________________________________________________\\ndense_6 (Dense)              (None, 10)                1290      \\n=================================================================\\n\\n'"
            ]
          },
          "metadata": {
            "tags": []
          },
          "execution_count": 1
        }
      ]
    },
    {
      "cell_type": "code",
      "metadata": {
        "id": "c2RTLEClGqlC",
        "colab_type": "code",
        "colab": {
          "base_uri": "https://localhost:8080/",
          "height": 134
        },
        "outputId": "f8623977-ce80-4a51-b374-4f58be5b82b6"
      },
      "source": [
        "# Q4. 이곳에 위의 표에 맞는 딥러닝의 모델을 Keras로 코딩하십시오. 모델 부문만 작성하고 마지막에 print로 summary를 출력하십시오.\n",
        "# 가정 1 : input은 24 x 24의 흑백 이미지\n",
        "# 가정 2 : convolution layer에서 사용하는 activation function은 ReLU로 통일 \n",
        "# 가정 3 : maxpooling 시 pool_size는 2 x 2\n",
        "# 가정 4 : dropout rate는 0.5\n",
        "# 가정 5 : dense_5 layer에서 사용하는 activation function은 ReLU\n",
        "# 가정 6 : dense_6 layer에서 사용하는 activation function은 softmax\n",
        "import keras\n",
        "from keras.models import Sequential\n",
        "from keras.layers import Dense, Dropout, Flatten\n",
        "from keras.layers import Conv2D, MaxPooling2D\n",
        "from keras import backend as K\n",
        "\n",
        "mymodel = Sequential()\n",
        "\n",
        "mymodel.add(Conv2D(32, (3, 3), activation='relu'))\n",
        "mymodel.add(MaxPooling2D(pool_size=(2, 2))\n",
        "mymodel.dropout(0.5)\n",
        "mymodel.add(Dense(512, activation='relu'))\n",
        "mymodel.add(Dense(nClasses, activation='softmax'))\n",
        "\n",
        "\n",
        "print(mymodel.summary())\n",
        "# The End"
      ],
      "execution_count": 66,
      "outputs": [
        {
          "output_type": "error",
          "ename": "SyntaxError",
          "evalue": "ignored",
          "traceback": [
            "\u001b[0;36m  File \u001b[0;32m\"<ipython-input-66-b152dc6af469>\"\u001b[0;36m, line \u001b[0;32m18\u001b[0m\n\u001b[0;31m    mymodel.dropout(0.5)\u001b[0m\n\u001b[0m          ^\u001b[0m\n\u001b[0;31mSyntaxError\u001b[0m\u001b[0;31m:\u001b[0m invalid syntax\n"
          ]
        }
      ]
    },
    {
      "cell_type": "markdown",
      "metadata": {
        "id": "k6z0l1F6d_SU",
        "colab_type": "text"
      },
      "source": [
        "Q5. 아래  코드가 출력하는 그래프에서 validation loss 값이 모든 epoch 구간에서 training loss 값보다 작도록  코드를 수정하시오. 현재의 그래프는 최적 상태가 아닙니다."
      ]
    },
    {
      "cell_type": "code",
      "metadata": {
        "id": "_3uvk7IVeIZs",
        "colab_type": "code",
        "outputId": "4090de39-7e38-4d25-8913-c8043d8d5f88",
        "colab": {
          "base_uri": "https://localhost:8080/",
          "height": 1000
        }
      },
      "source": [
        "from keras.datasets import mnist\n",
        "from matplotlib import pyplot as plt\n",
        "plt.style.use('dark_background')\n",
        "from keras.models import Sequential\n",
        "from keras.layers import Dense, Flatten, Activation, Dropout\n",
        "from keras.utils import normalize, to_categorical\n",
        "\n",
        "(X_train, y_train), (X_test, y_test) = mnist.load_data()\n",
        "\n",
        "plt.imshow(X_train[0], cmap = plt.cm.binary)\n",
        "plt.show()\n",
        "\n",
        "X_train = normalize(X_train, axis=1)\n",
        "X_test = normalize(X_test, axis=1)\n",
        "y_train = to_categorical(y_train)\n",
        "y_test = to_categorical(y_test)\n",
        "\n",
        "model = Sequential()\n",
        "model.add(Flatten(input_shape=(28, 28)))\n",
        "model.add(Dense(128))\n",
        "model.add(Activation('relu'))\n",
        "model.add(Dropout(0.25))\n",
        "model.add(Dense(128))\n",
        "model.add(Activation('relu'))\n",
        "model.add(Dropout(0.5))\n",
        "model.add(Dense(10))\n",
        "model.add(Activation('softmax'))\n",
        "model.summary()\n",
        "\n",
        "model.compile(\n",
        "    loss='categorical_crossentropy',\n",
        "    optimizer='adam',\n",
        "    metrics=['accuracy']\n",
        ")\n",
        "history = model.fit(\n",
        "    X_train,\n",
        "    y_train,\n",
        "    epochs=10,\n",
        "    batch_size=16,\n",
        "    validation_split=0.1,\n",
        "    verbose = 1,\n",
        "    shuffle=True\n",
        ")\n",
        "\n",
        "loss = history.history['loss']\n",
        "val_loss = history.history['val_loss']\n",
        "epochs = range(1, len(loss) + 1)\n",
        "plt.plot(epochs, loss, 'y', label='Training loss')\n",
        "plt.plot(epochs, val_loss, 'r', label='Validation loss')\n",
        "plt.title('Training and validation loss')\n",
        "plt.xlabel('Epochs')\n",
        "plt.ylabel('Loss')\n",
        "plt.legend()\n",
        "plt.show()"
      ],
      "execution_count": 57,
      "outputs": [
        {
          "output_type": "display_data",
          "data": {
            "image/png": "[encoded data removed]",
            "text/plain": [
              "<Figure size 432x288 with 1 Axes>"
            ]
          },
          "metadata": {
            "tags": []
          }
        },
        {
          "output_type": "stream",
          "text": [
            "Model: \"sequential_15\"\n",
            "_________________________________________________________________\n",
            "Layer (type)                 Output Shape              Param #   \n",
            "=================================================================\n",
            "flatten_8 (Flatten)          (None, 784)               0         \n",
            "_________________________________________________________________\n",
            "dense_36 (Dense)             (None, 128)               100480    \n",
            "_________________________________________________________________\n",
            "activation_22 (Activation)   (None, 128)               0         \n",
            "_________________________________________________________________\n",
            "dropout_1 (Dropout)          (None, 128)               0         \n",
            "_________________________________________________________________\n",
            "dense_37 (Dense)             (None, 128)               16512     \n",
            "_________________________________________________________________\n",
            "activation_23 (Activation)   (None, 128)               0         \n",
            "_________________________________________________________________\n",
            "dropout_2 (Dropout)          (None, 128)               0         \n",
            "_________________________________________________________________\n",
            "dense_38 (Dense)             (None, 10)                1290      \n",
            "_________________________________________________________________\n",
            "activation_24 (Activation)   (None, 10)                0         \n",
            "=================================================================\n",
            "Total params: 118,282\n",
            "Trainable params: 118,282\n",
            "Non-trainable params: 0\n",
            "_________________________________________________________________\n",
            "Train on 54000 samples, validate on 6000 samples\n",
            "Epoch 1/10\n",
            "54000/54000 [==============================] - 10s 177us/step - loss: 0.3890 - accuracy: 0.8839 - val_loss: 0.1344 - val_accuracy: 0.9595\n",
            "Epoch 2/10\n",
            "54000/54000 [==============================] - 9s 174us/step - loss: 0.1984 - accuracy: 0.9414 - val_loss: 0.0976 - val_accuracy: 0.9692\n",
            "Epoch 3/10\n",
            "54000/54000 [==============================] - 9s 175us/step - loss: 0.1606 - accuracy: 0.9541 - val_loss: 0.0902 - val_accuracy: 0.9732\n",
            "Epoch 4/10\n",
            "54000/54000 [==============================] - 9s 173us/step - loss: 0.1323 - accuracy: 0.9608 - val_loss: 0.0852 - val_accuracy: 0.9748\n",
            "Epoch 5/10\n",
            "54000/54000 [==============================] - 9s 173us/step - loss: 0.1193 - accuracy: 0.9647 - val_loss: 0.0783 - val_accuracy: 0.9773\n",
            "Epoch 6/10\n",
            "54000/54000 [==============================] - 9s 172us/step - loss: 0.1096 - accuracy: 0.9666 - val_loss: 0.0862 - val_accuracy: 0.9780\n",
            "Epoch 7/10\n",
            "54000/54000 [==============================] - 9s 174us/step - loss: 0.1022 - accuracy: 0.9703 - val_loss: 0.0866 - val_accuracy: 0.9783\n",
            "Epoch 8/10\n",
            "54000/54000 [==============================] - 10s 177us/step - loss: 0.0939 - accuracy: 0.9711 - val_loss: 0.0849 - val_accuracy: 0.9772\n",
            "Epoch 9/10\n",
            "54000/54000 [==============================] - 9s 175us/step - loss: 0.0921 - accuracy: 0.9721 - val_loss: 0.0762 - val_accuracy: 0.9808\n",
            "Epoch 10/10\n",
            "54000/54000 [==============================] - 10s 176us/step - loss: 0.0843 - accuracy: 0.9744 - val_loss: 0.0962 - val_accuracy: 0.9758\n"
          ],
          "name": "stdout"
        },
        {
          "output_type": "display_data",
          "data": {
            "image/png": "[encoded data removed]",
            "text/plain": [
              "<Figure size 432x288 with 1 Axes>"
            ]
          },
          "metadata": {
            "tags": []
          }
        }
      ]
    },
    {
      "cell_type": "markdown",
      "metadata": {
        "id": "o176gKn3yL-O",
        "colab_type": "text"
      },
      "source": [
        "Q6. Mini-batch size & Learning Rate 튜닝"
      ]
    },
    {
      "cell_type": "code",
      "metadata": {
        "id": "achHRPhwHPF3",
        "colab_type": "code",
        "colab": {
          "base_uri": "https://localhost:8080/",
          "height": 1000
        },
        "outputId": "5adeeb6f-1732-4bb5-cc30-723952952cbd"
      },
      "source": [
        "# mlp for the blobs problem with minibatch gradient descent with varied batch size\n",
        "# 아래의 코드에서 다음 두 개의 파라미터를 조합하여 최고의 모델링 성능을 내고 그 결과를 print()로 출력하십시오.\n",
        "# 튜닝할 파라미터 : batch_size & lr (각각 3가지의 옵션이 있으므로 두 파라미터를 조합할 수 있는 경우의 수는 모두 9가지)\n",
        "# 모델의 성능 평가 기준은 다음의 우선순위에 따라 결정하시오. \n",
        "# 1. Validation Loss가 최소, 2. Accuracy는 최고값에 가까울 것\n",
        "# 9번의 실험 후 최적이라고 생각되는 파라미터 값을 코드에 지정하고 셀을 다시 run하여 최종 결과를 출력하시오.\n",
        "%%time\n",
        "from sklearn.datasets import make_blobs\n",
        "from keras.layers import Dense\n",
        "from keras.models import Sequential\n",
        "from keras.optimizers import SGD\n",
        "from keras.utils import to_categorical\n",
        "from matplotlib import pyplot\n",
        "\n",
        "# prepare train and test dataset\n",
        "def prepare_data():\n",
        "\t# generate 2d classification dataset\n",
        "\tX, y = make_blobs(n_samples=1000, centers=3, n_features=2, cluster_std=2, random_state=2)\n",
        "\t# one hot encode output variable\n",
        "\ty = to_categorical(y)\n",
        "\t# split into train and test\n",
        "\tn_train = 500\n",
        "\ttrainX, testX = X[:n_train, :], X[n_train:, :]\n",
        "\ttrainy, testy = y[:n_train], y[n_train:]\n",
        "\treturn trainX, trainy, testX, testy\n",
        "\n",
        "# fit a model and plot learning curve\n",
        "def fit_model(trainX, trainy, testX, testy, n_batch):\n",
        "\t\n",
        "  # define model\n",
        "\tmodel = Sequential()\n",
        "\tmodel.add(Dense(50, input_dim=2, activation='relu', kernel_initializer='he_uniform'))\n",
        "\tmodel.add(Dense(3, activation='softmax'))\n",
        "\t\n",
        "  # lr의 값을  0.1, 0.01, 0.001 중에서 선택하여 이곳에 지정\n",
        "\topt = SGD(lr=0.001, momentum=0.9) \n",
        "\tmodel.compile(loss='categorical_crossentropy', optimizer=opt, metrics=['accuracy'])\n",
        "\t# fit model\n",
        "\thistory = model.fit(trainX, trainy, validation_data=(testX, testy), epochs=150, verbose=2, batch_size=n_batch)\n",
        "\tprint('accuracy = ', format(history.history['accuracy'][149],\".3f\"), ' ', 'validation loss = ', format(history.history['val_loss'][149],\".3f\"))\n",
        "  # plot learning curves\n",
        "\tpyplot.plot(history.history['accuracy'], label='train')\n",
        "\tpyplot.plot(history.history['val_loss'], label='test')\n",
        "\tpyplot.title('batch='+str(n_batch), pad=-40)\n",
        "\n",
        "\n",
        "\n",
        "# prepare dataset\n",
        "trainX, trainy, testX, testy = prepare_data()\n",
        "\n",
        "# batch_size의 값을   16, 32, 64 중에서 선택하여 이곳에 지정\n",
        "batch_size = 16\n",
        "\n",
        "fit_model(trainX, trainy, testX, testy, batch_size)\n",
        "# show learning curves\n",
        "pyplot.show()\n",
        "\n",
        "# 결과를 메모장에 적어놓고 lr과 batch_size를 바꿔가며 최적의 파라미터를 찾아가시오.\n",
        "# 최적의 lr과 batch_size를 선택하여 위의 코드에 적고 Run한 결과룰 출력하여 제출하시오. "
      ],
      "execution_count": 61,
      "outputs": [
        {
          "output_type": "stream",
          "text": [
            "Train on 500 samples, validate on 500 samples\n",
            "Epoch 1/150\n",
            " - 0s - loss: 2.9466 - accuracy: 0.3940 - val_loss: 1.0172 - val_accuracy: 0.6480\n",
            "Epoch 2/150\n",
            " - 0s - loss: 0.8198 - accuracy: 0.6420 - val_loss: 0.6674 - val_accuracy: 0.6780\n",
            "Epoch 3/150\n",
            " - 0s - loss: 0.7056 - accuracy: 0.6560 - val_loss: 0.6448 - val_accuracy: 0.6960\n",
            "Epoch 4/150\n",
            " - 0s - loss: 0.7346 - accuracy: 0.6240 - val_loss: 0.6494 - val_accuracy: 0.6680\n",
            "Epoch 5/150\n",
            " - 0s - loss: 0.6910 - accuracy: 0.6520 - val_loss: 0.6431 - val_accuracy: 0.6920\n",
            "Epoch 6/150\n",
            " - 0s - loss: 0.6782 - accuracy: 0.6660 - val_loss: 0.6728 - val_accuracy: 0.7620\n",
            "Epoch 7/150\n",
            " - 0s - loss: 0.6747 - accuracy: 0.6720 - val_loss: 0.6265 - val_accuracy: 0.7140\n",
            "Epoch 8/150\n",
            " - 0s - loss: 0.6556 - accuracy: 0.6620 - val_loss: 0.6365 - val_accuracy: 0.7340\n",
            "Epoch 9/150\n",
            " - 0s - loss: 0.6631 - accuracy: 0.6800 - val_loss: 0.6319 - val_accuracy: 0.7620\n",
            "Epoch 10/150\n",
            " - 0s - loss: 0.6479 - accuracy: 0.6820 - val_loss: 0.6404 - val_accuracy: 0.7900\n",
            "Epoch 11/150\n",
            " - 0s - loss: 0.6613 - accuracy: 0.6960 - val_loss: 0.6104 - val_accuracy: 0.7040\n",
            "Epoch 12/150\n",
            " - 0s - loss: 0.6522 - accuracy: 0.6720 - val_loss: 0.5886 - val_accuracy: 0.7340\n",
            "Epoch 13/150\n",
            " - 0s - loss: 0.6503 - accuracy: 0.6860 - val_loss: 0.6264 - val_accuracy: 0.7840\n",
            "Epoch 14/150\n",
            " - 0s - loss: 0.6149 - accuracy: 0.7000 - val_loss: 0.5778 - val_accuracy: 0.7360\n",
            "Epoch 15/150\n",
            " - 0s - loss: 0.6239 - accuracy: 0.7020 - val_loss: 0.5811 - val_accuracy: 0.7680\n",
            "Epoch 16/150\n",
            " - 0s - loss: 0.6160 - accuracy: 0.7120 - val_loss: 0.5733 - val_accuracy: 0.7460\n",
            "Epoch 17/150\n",
            " - 0s - loss: 0.6247 - accuracy: 0.7140 - val_loss: 0.5717 - val_accuracy: 0.7360\n",
            "Epoch 18/150\n",
            " - 0s - loss: 0.6213 - accuracy: 0.7060 - val_loss: 0.5667 - val_accuracy: 0.7460\n",
            "Epoch 19/150\n",
            " - 0s - loss: 0.6061 - accuracy: 0.7100 - val_loss: 0.5786 - val_accuracy: 0.8060\n",
            "Epoch 20/150\n",
            " - 0s - loss: 0.6003 - accuracy: 0.7380 - val_loss: 0.5951 - val_accuracy: 0.7280\n",
            "Epoch 21/150\n",
            " - 0s - loss: 0.6068 - accuracy: 0.7100 - val_loss: 0.5600 - val_accuracy: 0.7580\n",
            "Epoch 22/150\n",
            " - 0s - loss: 0.5910 - accuracy: 0.7400 - val_loss: 0.5576 - val_accuracy: 0.7480\n",
            "Epoch 23/150\n",
            " - 0s - loss: 0.6379 - accuracy: 0.7020 - val_loss: 0.5606 - val_accuracy: 0.8000\n",
            "Epoch 24/150\n",
            " - 0s - loss: 0.5761 - accuracy: 0.7500 - val_loss: 0.5638 - val_accuracy: 0.8160\n",
            "Epoch 25/150\n",
            " - 0s - loss: 0.6066 - accuracy: 0.7320 - val_loss: 0.5459 - val_accuracy: 0.7680\n",
            "Epoch 26/150\n",
            " - 0s - loss: 0.7155 - accuracy: 0.6780 - val_loss: 0.6186 - val_accuracy: 0.7340\n",
            "Epoch 27/150\n",
            " - 0s - loss: 0.5833 - accuracy: 0.7340 - val_loss: 0.5275 - val_accuracy: 0.7940\n",
            "Epoch 28/150\n",
            " - 0s - loss: 0.5590 - accuracy: 0.7620 - val_loss: 0.5470 - val_accuracy: 0.8060\n",
            "Epoch 29/150\n",
            " - 0s - loss: 0.5623 - accuracy: 0.7500 - val_loss: 0.5233 - val_accuracy: 0.7800\n",
            "Epoch 30/150\n",
            " - 0s - loss: 0.5581 - accuracy: 0.7620 - val_loss: 0.5358 - val_accuracy: 0.7620\n",
            "Epoch 31/150\n",
            " - 0s - loss: 0.5605 - accuracy: 0.7700 - val_loss: 0.5423 - val_accuracy: 0.8180\n",
            "Epoch 32/150\n",
            " - 0s - loss: 0.5577 - accuracy: 0.7540 - val_loss: 0.5286 - val_accuracy: 0.7680\n",
            "Epoch 33/150\n",
            " - 0s - loss: 0.5430 - accuracy: 0.7500 - val_loss: 0.5171 - val_accuracy: 0.8160\n",
            "Epoch 34/150\n",
            " - 0s - loss: 0.5480 - accuracy: 0.7680 - val_loss: 0.5190 - val_accuracy: 0.8100\n",
            "Epoch 35/150\n",
            " - 0s - loss: 0.5375 - accuracy: 0.7640 - val_loss: 0.5090 - val_accuracy: 0.7960\n",
            "Epoch 36/150\n",
            " - 0s - loss: 0.5306 - accuracy: 0.7700 - val_loss: 0.5176 - val_accuracy: 0.7760\n",
            "Epoch 37/150\n",
            " - 0s - loss: 0.5527 - accuracy: 0.7640 - val_loss: 0.5091 - val_accuracy: 0.8100\n",
            "Epoch 38/150\n",
            " - 0s - loss: 0.5296 - accuracy: 0.7800 - val_loss: 0.5018 - val_accuracy: 0.8000\n",
            "Epoch 39/150\n",
            " - 0s - loss: 0.5226 - accuracy: 0.7760 - val_loss: 0.5063 - val_accuracy: 0.8080\n",
            "Epoch 40/150\n",
            " - 0s - loss: 0.5218 - accuracy: 0.7740 - val_loss: 0.5082 - val_accuracy: 0.7860\n",
            "Epoch 41/150\n",
            " - 0s - loss: 0.5177 - accuracy: 0.7760 - val_loss: 0.6059 - val_accuracy: 0.7500\n",
            "Epoch 42/150\n",
            " - 0s - loss: 0.5593 - accuracy: 0.7520 - val_loss: 0.4915 - val_accuracy: 0.8220\n",
            "Epoch 43/150\n",
            " - 0s - loss: 0.5130 - accuracy: 0.7800 - val_loss: 0.4948 - val_accuracy: 0.8260\n",
            "Epoch 44/150\n",
            " - 0s - loss: 0.5153 - accuracy: 0.7820 - val_loss: 0.5035 - val_accuracy: 0.8080\n",
            "Epoch 45/150\n",
            " - 0s - loss: 0.5125 - accuracy: 0.7820 - val_loss: 0.4942 - val_accuracy: 0.7960\n",
            "Epoch 46/150\n",
            " - 0s - loss: 0.5011 - accuracy: 0.7820 - val_loss: 0.5437 - val_accuracy: 0.8140\n",
            "Epoch 47/150\n",
            " - 0s - loss: 0.5088 - accuracy: 0.7860 - val_loss: 0.4974 - val_accuracy: 0.8040\n",
            "Epoch 48/150\n",
            " - 0s - loss: 0.5038 - accuracy: 0.7880 - val_loss: 0.4806 - val_accuracy: 0.8080\n",
            "Epoch 49/150\n",
            " - 0s - loss: 0.5044 - accuracy: 0.7820 - val_loss: 0.4836 - val_accuracy: 0.8200\n",
            "Epoch 50/150\n",
            " - 0s - loss: 0.5145 - accuracy: 0.7800 - val_loss: 0.4912 - val_accuracy: 0.8100\n",
            "Epoch 51/150\n",
            " - 0s - loss: 0.5523 - accuracy: 0.7860 - val_loss: 0.4912 - val_accuracy: 0.8180\n",
            "Epoch 52/150\n",
            " - 0s - loss: 0.4925 - accuracy: 0.8000 - val_loss: 0.5089 - val_accuracy: 0.7940\n",
            "Epoch 53/150\n",
            " - 0s - loss: 0.4946 - accuracy: 0.7780 - val_loss: 0.5013 - val_accuracy: 0.8240\n",
            "Epoch 54/150\n",
            " - 0s - loss: 0.4957 - accuracy: 0.7780 - val_loss: 0.5238 - val_accuracy: 0.8060\n",
            "Epoch 55/150\n",
            " - 0s - loss: 0.4880 - accuracy: 0.7900 - val_loss: 0.4676 - val_accuracy: 0.8240\n",
            "Epoch 56/150\n",
            " - 0s - loss: 0.4814 - accuracy: 0.7840 - val_loss: 0.4791 - val_accuracy: 0.8180\n",
            "Epoch 57/150\n",
            " - 0s - loss: 0.4719 - accuracy: 0.8100 - val_loss: 0.4685 - val_accuracy: 0.8360\n",
            "Epoch 58/150\n",
            " - 0s - loss: 0.4787 - accuracy: 0.8040 - val_loss: 0.4649 - val_accuracy: 0.8200\n",
            "Epoch 59/150\n",
            " - 0s - loss: 0.4984 - accuracy: 0.7740 - val_loss: 0.4636 - val_accuracy: 0.8300\n",
            "Epoch 60/150\n",
            " - 0s - loss: 0.4998 - accuracy: 0.7780 - val_loss: 0.4601 - val_accuracy: 0.8340\n",
            "Epoch 61/150\n",
            " - 0s - loss: 0.4943 - accuracy: 0.7960 - val_loss: 0.4725 - val_accuracy: 0.8120\n",
            "Epoch 62/150\n",
            " - 0s - loss: 0.5061 - accuracy: 0.7700 - val_loss: 0.4606 - val_accuracy: 0.8280\n",
            "Epoch 63/150\n",
            " - 0s - loss: 0.4749 - accuracy: 0.8060 - val_loss: 0.4562 - val_accuracy: 0.8360\n",
            "Epoch 64/150\n",
            " - 0s - loss: 0.5453 - accuracy: 0.7640 - val_loss: 0.5339 - val_accuracy: 0.7960\n",
            "Epoch 65/150\n",
            " - 0s - loss: 0.4961 - accuracy: 0.7660 - val_loss: 0.5505 - val_accuracy: 0.7840\n",
            "Epoch 66/150\n",
            " - 0s - loss: 0.4985 - accuracy: 0.7880 - val_loss: 0.5024 - val_accuracy: 0.8140\n",
            "Epoch 67/150\n",
            " - 0s - loss: 0.5369 - accuracy: 0.7820 - val_loss: 0.4485 - val_accuracy: 0.8260\n",
            "Epoch 68/150\n",
            " - 0s - loss: 0.4601 - accuracy: 0.8120 - val_loss: 0.4475 - val_accuracy: 0.8300\n",
            "Epoch 69/150\n",
            " - 0s - loss: 0.4588 - accuracy: 0.8100 - val_loss: 0.4443 - val_accuracy: 0.8340\n",
            "Epoch 70/150\n",
            " - 0s - loss: 0.4625 - accuracy: 0.7980 - val_loss: 0.4493 - val_accuracy: 0.8340\n",
            "Epoch 71/150\n",
            " - 0s - loss: 0.4850 - accuracy: 0.7820 - val_loss: 0.4647 - val_accuracy: 0.8120\n",
            "Epoch 72/150\n",
            " - 0s - loss: 0.4745 - accuracy: 0.7920 - val_loss: 0.4740 - val_accuracy: 0.8180\n",
            "Epoch 73/150\n",
            " - 0s - loss: 0.4635 - accuracy: 0.8080 - val_loss: 0.4484 - val_accuracy: 0.8180\n",
            "Epoch 74/150\n",
            " - 0s - loss: 0.4718 - accuracy: 0.7860 - val_loss: 0.4514 - val_accuracy: 0.8160\n",
            "Epoch 75/150\n",
            " - 0s - loss: 0.4841 - accuracy: 0.7880 - val_loss: 0.4527 - val_accuracy: 0.8300\n",
            "Epoch 76/150\n",
            " - 0s - loss: 0.4479 - accuracy: 0.8020 - val_loss: 0.4426 - val_accuracy: 0.8360\n",
            "Epoch 77/150\n",
            " - 0s - loss: 0.4513 - accuracy: 0.8060 - val_loss: 0.4359 - val_accuracy: 0.8360\n",
            "Epoch 78/150\n",
            " - 0s - loss: 0.4493 - accuracy: 0.8080 - val_loss: 0.4350 - val_accuracy: 0.8400\n",
            "Epoch 79/150\n",
            " - 0s - loss: 0.4384 - accuracy: 0.8260 - val_loss: 0.4426 - val_accuracy: 0.8220\n",
            "Epoch 80/150\n",
            " - 0s - loss: 0.4558 - accuracy: 0.7940 - val_loss: 0.4360 - val_accuracy: 0.8260\n",
            "Epoch 81/150\n",
            " - 0s - loss: 0.4441 - accuracy: 0.8020 - val_loss: 0.4461 - val_accuracy: 0.8320\n",
            "Epoch 82/150\n",
            " - 0s - loss: 0.4447 - accuracy: 0.8040 - val_loss: 0.4468 - val_accuracy: 0.8300\n",
            "Epoch 83/150\n",
            " - 0s - loss: 0.4415 - accuracy: 0.8100 - val_loss: 0.4364 - val_accuracy: 0.8260\n",
            "Epoch 84/150\n",
            " - 0s - loss: 0.4447 - accuracy: 0.8120 - val_loss: 0.4384 - val_accuracy: 0.8280\n",
            "Epoch 85/150\n",
            " - 0s - loss: 0.4511 - accuracy: 0.8040 - val_loss: 0.4384 - val_accuracy: 0.8200\n",
            "Epoch 86/150\n",
            " - 0s - loss: 0.4597 - accuracy: 0.8080 - val_loss: 0.4394 - val_accuracy: 0.8140\n",
            "Epoch 87/150\n",
            " - 0s - loss: 0.4474 - accuracy: 0.8100 - val_loss: 0.4843 - val_accuracy: 0.8180\n",
            "Epoch 88/150\n",
            " - 0s - loss: 0.4503 - accuracy: 0.8160 - val_loss: 0.4286 - val_accuracy: 0.8280\n",
            "Epoch 89/150\n",
            " - 0s - loss: 0.4380 - accuracy: 0.8180 - val_loss: 0.4448 - val_accuracy: 0.8280\n",
            "Epoch 90/150\n",
            " - 0s - loss: 0.4350 - accuracy: 0.8200 - val_loss: 0.4261 - val_accuracy: 0.8360\n",
            "Epoch 91/150\n",
            " - 0s - loss: 0.4314 - accuracy: 0.8280 - val_loss: 0.4479 - val_accuracy: 0.8200\n",
            "Epoch 92/150\n",
            " - 0s - loss: 0.4620 - accuracy: 0.7860 - val_loss: 0.4262 - val_accuracy: 0.8340\n",
            "Epoch 93/150\n",
            " - 0s - loss: 0.4350 - accuracy: 0.8200 - val_loss: 0.4283 - val_accuracy: 0.8320\n",
            "Epoch 94/150\n",
            " - 0s - loss: 0.4382 - accuracy: 0.8160 - val_loss: 0.4487 - val_accuracy: 0.8240\n",
            "Epoch 95/150\n",
            " - 0s - loss: 0.4285 - accuracy: 0.8300 - val_loss: 0.4248 - val_accuracy: 0.8300\n",
            "Epoch 96/150\n",
            " - 0s - loss: 0.4307 - accuracy: 0.8200 - val_loss: 0.4408 - val_accuracy: 0.8300\n",
            "Epoch 97/150\n",
            " - 0s - loss: 0.4332 - accuracy: 0.8140 - val_loss: 0.4576 - val_accuracy: 0.8160\n",
            "Epoch 98/150\n",
            " - 0s - loss: 0.4416 - accuracy: 0.8240 - val_loss: 0.4316 - val_accuracy: 0.8260\n",
            "Epoch 99/150\n",
            " - 0s - loss: 0.4232 - accuracy: 0.8300 - val_loss: 0.4284 - val_accuracy: 0.8300\n",
            "Epoch 100/150\n",
            " - 0s - loss: 0.4419 - accuracy: 0.8080 - val_loss: 0.4566 - val_accuracy: 0.8200\n",
            "Epoch 101/150\n",
            " - 0s - loss: 0.4408 - accuracy: 0.8100 - val_loss: 0.4328 - val_accuracy: 0.8220\n",
            "Epoch 102/150\n",
            " - 0s - loss: 0.4474 - accuracy: 0.8080 - val_loss: 0.4375 - val_accuracy: 0.8200\n",
            "Epoch 103/150\n",
            " - 0s - loss: 0.4344 - accuracy: 0.8300 - val_loss: 0.4290 - val_accuracy: 0.8280\n",
            "Epoch 104/150\n",
            " - 0s - loss: 0.4354 - accuracy: 0.8180 - val_loss: 0.5150 - val_accuracy: 0.7940\n",
            "Epoch 105/150\n",
            " - 0s - loss: 0.4540 - accuracy: 0.8000 - val_loss: 0.4401 - val_accuracy: 0.8280\n",
            "Epoch 106/150\n",
            " - 0s - loss: 0.4225 - accuracy: 0.8400 - val_loss: 0.4238 - val_accuracy: 0.8300\n",
            "Epoch 107/150\n",
            " - 0s - loss: 0.4291 - accuracy: 0.8280 - val_loss: 0.4382 - val_accuracy: 0.8240\n",
            "Epoch 108/150\n",
            " - 0s - loss: 0.4334 - accuracy: 0.8140 - val_loss: 0.4218 - val_accuracy: 0.8240\n",
            "Epoch 109/150\n",
            " - 0s - loss: 0.4299 - accuracy: 0.8180 - val_loss: 0.4472 - val_accuracy: 0.8200\n",
            "Epoch 110/150\n",
            " - 0s - loss: 0.4461 - accuracy: 0.8140 - val_loss: 0.5098 - val_accuracy: 0.7820\n",
            "Epoch 111/150\n",
            " - 0s - loss: 0.4511 - accuracy: 0.8000 - val_loss: 0.4317 - val_accuracy: 0.8160\n",
            "Epoch 112/150\n",
            " - 0s - loss: 0.4632 - accuracy: 0.8080 - val_loss: 0.4314 - val_accuracy: 0.8120\n",
            "Epoch 113/150\n",
            " - 0s - loss: 0.4588 - accuracy: 0.8040 - val_loss: 0.4366 - val_accuracy: 0.8200\n",
            "Epoch 114/150\n",
            " - 0s - loss: 0.4209 - accuracy: 0.8220 - val_loss: 0.4341 - val_accuracy: 0.8300\n",
            "Epoch 115/150\n",
            " - 0s - loss: 0.4418 - accuracy: 0.8140 - val_loss: 0.4327 - val_accuracy: 0.8160\n",
            "Epoch 116/150\n",
            " - 0s - loss: 0.4305 - accuracy: 0.8100 - val_loss: 0.4154 - val_accuracy: 0.8300\n",
            "Epoch 117/150\n",
            " - 0s - loss: 0.4149 - accuracy: 0.8200 - val_loss: 0.4300 - val_accuracy: 0.8160\n",
            "Epoch 118/150\n",
            " - 0s - loss: 0.4205 - accuracy: 0.8300 - val_loss: 0.4171 - val_accuracy: 0.8280\n",
            "Epoch 119/150\n",
            " - 0s - loss: 0.4254 - accuracy: 0.8160 - val_loss: 0.4449 - val_accuracy: 0.8220\n",
            "Epoch 120/150\n",
            " - 0s - loss: 0.4219 - accuracy: 0.8280 - val_loss: 0.4133 - val_accuracy: 0.8360\n",
            "Epoch 121/150\n",
            " - 0s - loss: 0.4198 - accuracy: 0.8160 - val_loss: 0.4252 - val_accuracy: 0.8300\n",
            "Epoch 122/150\n",
            " - 0s - loss: 0.4312 - accuracy: 0.8100 - val_loss: 0.4331 - val_accuracy: 0.8260\n",
            "Epoch 123/150\n",
            " - 0s - loss: 0.4163 - accuracy: 0.8200 - val_loss: 0.4129 - val_accuracy: 0.8340\n",
            "Epoch 124/150\n",
            " - 0s - loss: 0.4222 - accuracy: 0.8320 - val_loss: 0.4128 - val_accuracy: 0.8280\n",
            "Epoch 125/150\n",
            " - 0s - loss: 0.4347 - accuracy: 0.8080 - val_loss: 0.4307 - val_accuracy: 0.8260\n",
            "Epoch 126/150\n",
            " - 0s - loss: 0.4046 - accuracy: 0.8280 - val_loss: 0.4187 - val_accuracy: 0.8320\n",
            "Epoch 127/150\n",
            " - 0s - loss: 0.4091 - accuracy: 0.8300 - val_loss: 0.4549 - val_accuracy: 0.8140\n",
            "Epoch 128/150\n",
            " - 0s - loss: 0.4226 - accuracy: 0.8220 - val_loss: 0.4168 - val_accuracy: 0.8280\n",
            "Epoch 129/150\n",
            " - 0s - loss: 0.4196 - accuracy: 0.8260 - val_loss: 0.4149 - val_accuracy: 0.8320\n",
            "Epoch 130/150\n",
            " - 0s - loss: 0.4183 - accuracy: 0.8200 - val_loss: 0.4376 - val_accuracy: 0.8180\n",
            "Epoch 131/150\n",
            " - 0s - loss: 0.4169 - accuracy: 0.8220 - val_loss: 0.4255 - val_accuracy: 0.8220\n",
            "Epoch 132/150\n",
            " - 0s - loss: 0.4253 - accuracy: 0.8180 - val_loss: 0.4113 - val_accuracy: 0.8300\n",
            "Epoch 133/150\n",
            " - 0s - loss: 0.4519 - accuracy: 0.8140 - val_loss: 0.4199 - val_accuracy: 0.8260\n",
            "Epoch 134/150\n",
            " - 0s - loss: 0.4083 - accuracy: 0.8280 - val_loss: 0.4663 - val_accuracy: 0.8060\n",
            "Epoch 135/150\n",
            " - 0s - loss: 0.4223 - accuracy: 0.8120 - val_loss: 0.4317 - val_accuracy: 0.8240\n",
            "Epoch 136/150\n",
            " - 0s - loss: 0.4214 - accuracy: 0.8140 - val_loss: 0.4343 - val_accuracy: 0.8260\n",
            "Epoch 137/150\n",
            " - 0s - loss: 0.4363 - accuracy: 0.8160 - val_loss: 0.4099 - val_accuracy: 0.8340\n",
            "Epoch 138/150\n",
            " - 0s - loss: 0.4083 - accuracy: 0.8220 - val_loss: 0.4117 - val_accuracy: 0.8320\n",
            "Epoch 139/150\n",
            " - 0s - loss: 0.4115 - accuracy: 0.8200 - val_loss: 0.4443 - val_accuracy: 0.8160\n",
            "Epoch 140/150\n",
            " - 0s - loss: 0.4149 - accuracy: 0.8340 - val_loss: 0.4102 - val_accuracy: 0.8320\n",
            "Epoch 141/150\n",
            " - 0s - loss: 0.4148 - accuracy: 0.8200 - val_loss: 0.4153 - val_accuracy: 0.8300\n",
            "Epoch 142/150\n",
            " - 0s - loss: 0.4131 - accuracy: 0.8240 - val_loss: 0.4787 - val_accuracy: 0.8020\n",
            "Epoch 143/150\n",
            " - 0s - loss: 0.4296 - accuracy: 0.8060 - val_loss: 0.4136 - val_accuracy: 0.8280\n",
            "Epoch 144/150\n",
            " - 0s - loss: 0.4039 - accuracy: 0.8260 - val_loss: 0.4201 - val_accuracy: 0.8200\n",
            "Epoch 145/150\n",
            " - 0s - loss: 0.4136 - accuracy: 0.8220 - val_loss: 0.4104 - val_accuracy: 0.8280\n",
            "Epoch 146/150\n",
            " - 0s - loss: 0.4146 - accuracy: 0.8120 - val_loss: 0.4339 - val_accuracy: 0.8220\n",
            "Epoch 147/150\n",
            " - 0s - loss: 0.4109 - accuracy: 0.8200 - val_loss: 0.4145 - val_accuracy: 0.8340\n",
            "Epoch 148/150\n",
            " - 0s - loss: 0.4265 - accuracy: 0.8200 - val_loss: 0.4094 - val_accuracy: 0.8360\n",
            "Epoch 149/150\n",
            " - 0s - loss: 0.4028 - accuracy: 0.8300 - val_loss: 0.5104 - val_accuracy: 0.7880\n",
            "Epoch 150/150\n",
            " - 0s - loss: 0.4191 - accuracy: 0.8280 - val_loss: 0.4224 - val_accuracy: 0.8280\n",
            "accuracy =  0.828   validation loss =  0.422\n"
          ],
          "name": "stdout"
        },
        {
          "output_type": "display_data",
          "data": {
            "image/png": "[encoded data removed]",
            "text/plain": [
              "<Figure size 432x288 with 1 Axes>"
            ]
          },
          "metadata": {
            "tags": []
          }
        },
        {
          "output_type": "stream",
          "text": [
            "CPU times: user 9.48 s, sys: 496 ms, total: 9.97 s\n",
            "Wall time: 8.65 s\n"
          ],
          "name": "stdout"
        }
      ]
    },
    {
      "cell_type": "markdown",
      "metadata": {
        "id": "U7B16qvfgODH",
        "colab_type": "text"
      },
      "source": [
        "Q7 . RNN 문장 생성기\n"
      ]
    },
    {
      "cell_type": "code",
      "metadata": {
        "id": "_2DqrQtH9Itp",
        "colab_type": "code",
        "colab": {}
      },
      "source": [
        "# 다음의 코드를 완성하시오\n",
        "from tensorflow.keras.preprocessing.text import Tokenizer\n",
        "from tensorflow.keras.preprocessing.sequence import pad_sequences\n",
        "import numpy as np\n",
        "from tensorflow.keras.utils import to_categorical\n",
        "\n",
        "text=\"\"\"특히 최근 수도권에서는 교회 소모임 참석자에 이어 이들 가족과 지인으로 번지는 2차 감염 사례가 증가하고 있습니다. 중앙재난안전대책본부는 오늘까지 수도권 교회와 관련한 코로나19 확진자는 총 63명이라고 밝혔으며  2차 감염자는 33명 이라고 전했습니다. \"\"\"\n",
        "\n",
        "\n",
        "t = Tokenizer()\n",
        "t.fit_on_texts([text])\n",
        "vocab_size = len(t.word_index) + 1\n",
        "print('단어 집합의 크기 : %d' % vocab_size)\n",
        "\n",
        "\n",
        "print(t.word_index)\n",
        "\n",
        "sequences = list()\n",
        "for line in text.split('\\n'): \n",
        "    encoded = t.texts_to_sequences([line])[0]\n",
        "    for i in range(1, len(encoded)):\n",
        "        sequence = encoded[:i+1]\n",
        "        sequences.append(sequence)\n",
        "\n",
        "print('학습에 사용할 샘플의 개수: %d' % len(sequences))\n",
        "\n",
        "\n",
        "max_len=max(len(l) for l in sequences) \n",
        "\n",
        "sequences = pad_sequences(sequences, maxlen=max_len, padding='pre')\n",
        "\n",
        "sequences = np.array(sequences)\n",
        "X = sequences[:,:-1]\n",
        "y = sequences[:,-1]\n",
        "\n",
        "\n",
        "from tensorflow.keras.models import Sequential\n",
        "from tensorflow.keras.layers import Embedding, Dense, SimpleRNN\n",
        "\n",
        "model = Sequential()\n",
        "model.add(Embedding(vocab_size, 10, input_length=max_len-1))  \n",
        "model.add(SimpleRNN(32))\n",
        "model.add(Dense(vocab_size, activation='softmax'))\n",
        "model.compile(loss='sparse_categorical_crossentropy', optimizer='adam', metrics=['accuracy'])\n",
        "model.fit(X, y, epochs=120, verbose=2)\n",
        "\n",
        "# 이 블록에서 yoou_code_here 부분을 완성하시오\n",
        "def sentence_generation(model, t, current_word, n): # model = 모델, t = 토크나이저, current_word = 현재 단어, n = 반복할 횟수\n",
        "    init_word = current_word # 처음 들어온 단어도 마지막에 같이 출력하기위해 저장\n",
        "    sentence = ''\n",
        "    for _ in range(n): # n번 반복\n",
        "        encoded = t.texts_to_sequences([current_word])[0] # 현재 단어에 대한 정수 인코딩\n",
        "        encoded = pad_sequences([encoded], maxlen=30, padding='pre') # 데이터에 대한 패딩\n",
        "        result = np.argmax(model.predict(encoded), axis=-1)\n",
        "        for word, index in t.word_index.items(): \n",
        "            if index == result: # 만약 예측한 단어의 인덱스 값이 동일한 단어가 있다면\n",
        "                break # 해당 단어가 예측 단어이므로 break\n",
        "        current_word = word # 현재 단어 + ' ' + 예측한 단어를 current_word로 저장\n",
        "        sentence = sentence + ' '+ word # 예측한 단어를 sentence에 append\n",
        "     \n",
        "    sentence = init_word + sentence # 초기의 텍스트와 for loop에서 생성된 텍스트를 concatenate\n",
        "    return sentence\n",
        "\n",
        "print(sentence_generation(model, t, '특히', 10))"
      ],
      "execution_count": 0,
      "outputs": []
    },
    {
      "cell_type": "markdown",
      "metadata": {
        "id": "Q_ZqqZcvN1PQ",
        "colab_type": "text"
      },
      "source": [
        "## 20년1학기-기말고사-yourname.ipynb로 다운로드한 후 제출하십시오.\n",
        "수고하였습니다!"
      ]
    }
  ]
}