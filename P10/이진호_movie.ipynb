{
 "cells": [
  {
   "cell_type": "code",
   "execution_count": 16,
   "metadata": {
    "scrolled": true
   },
   "outputs": [
    {
     "name": "stdout",
     "output_type": "stream",
     "text": [
      "Requirement already up-to-date: pip in /opt/conda/envs/Python36/lib/python3.6/site-packages (20.1.1)\n",
      "Requirement already satisfied: lxml in /opt/conda/envs/Python36/lib/python3.6/site-packages (4.3.1)\n",
      "Requirement already satisfied: utils in /opt/conda/envs/Python36/lib/python3.6/site-packages (1.0.1)\n",
      "Requirement already satisfied: paramiko in /opt/conda/envs/Python36/lib/python3.6/site-packages (2.7.1)\n",
      "Requirement already satisfied: pynacl>=1.0.1 in /opt/conda/envs/Python36/lib/python3.6/site-packages (from paramiko) (1.3.0)\n",
      "Requirement already satisfied: bcrypt>=3.1.3 in /opt/conda/envs/Python36/lib/python3.6/site-packages (from paramiko) (3.1.7)\n",
      "Requirement already satisfied: cryptography>=2.5 in /opt/conda/envs/Python36/lib/python3.6/site-packages (from paramiko) (2.5)\n",
      "Requirement already satisfied: cffi>=1.4.1 in /opt/conda/envs/Python36/lib/python3.6/site-packages (from pynacl>=1.0.1->paramiko) (1.11.5)\n",
      "Requirement already satisfied: six in /opt/conda/envs/Python36/lib/python3.6/site-packages (from pynacl>=1.0.1->paramiko) (1.12.0)\n",
      "Requirement already satisfied: asn1crypto>=0.21.0 in /opt/conda/envs/Python36/lib/python3.6/site-packages (from cryptography>=2.5->paramiko) (0.24.0)\n",
      "Requirement already satisfied: pycparser in /opt/conda/envs/Python36/lib/python3.6/site-packages (from cffi>=1.4.1->pynacl>=1.0.1->paramiko) (2.19)\n",
      "Requirement already satisfied: nltk in /opt/conda/envs/Python36/lib/python3.6/site-packages (3.4)\n",
      "Requirement already satisfied: six in /opt/conda/envs/Python36/lib/python3.6/site-packages (from nltk) (1.12.0)\n",
      "Requirement already satisfied: singledispatch in /opt/conda/envs/Python36/lib/python3.6/site-packages (from nltk) (3.4.0.3)\n"
     ]
    }
   ],
   "source": [
    "! pip install --upgrade pip\n",
    "! pip install lxml\n",
    "! pip install utils\n",
    "! pip install paramiko\n",
    "! pip install nltk"
   ]
  },
  {
   "cell_type": "code",
   "execution_count": 17,
   "metadata": {},
   "outputs": [
    {
     "name": "stdout",
     "output_type": "stream",
     "text": [
      "Requirement already satisfied: konlpy in /opt/conda/envs/Python36/lib/python3.6/site-packages (0.5.2)\n",
      "Requirement already satisfied: lxml>=4.1.0 in /opt/conda/envs/Python36/lib/python3.6/site-packages (from konlpy) (4.3.1)\n",
      "Requirement already satisfied: numpy>=1.6 in /opt/conda/envs/Python36/lib/python3.6/site-packages (from konlpy) (1.15.4)\n",
      "Requirement already satisfied: beautifulsoup4==4.6.0 in /opt/conda/envs/Python36/lib/python3.6/site-packages (from konlpy) (4.6.0)\n",
      "Requirement already satisfied: JPype1>=0.7.0 in /opt/conda/envs/Python36/lib/python3.6/site-packages (from konlpy) (0.7.5)\n",
      "Requirement already satisfied: tweepy>=3.7.0 in /opt/conda/envs/Python36/lib/python3.6/site-packages (from konlpy) (3.8.0)\n",
      "Requirement already satisfied: colorama in /opt/conda/envs/Python36/lib/python3.6/site-packages (from konlpy) (0.4.1)\n",
      "Requirement already satisfied: requests-oauthlib>=0.7.0 in /opt/conda/envs/Python36/lib/python3.6/site-packages (from tweepy>=3.7.0->konlpy) (1.3.0)\n",
      "Requirement already satisfied: six>=1.10.0 in /opt/conda/envs/Python36/lib/python3.6/site-packages (from tweepy>=3.7.0->konlpy) (1.12.0)\n",
      "Requirement already satisfied: requests>=2.11.1 in /opt/conda/envs/Python36/lib/python3.6/site-packages (from tweepy>=3.7.0->konlpy) (2.21.0)\n",
      "Requirement already satisfied: PySocks>=1.5.7 in /opt/conda/envs/Python36/lib/python3.6/site-packages (from tweepy>=3.7.0->konlpy) (1.6.8)\n",
      "Requirement already satisfied: oauthlib>=3.0.0 in /opt/conda/envs/Python36/lib/python3.6/site-packages (from requests-oauthlib>=0.7.0->tweepy>=3.7.0->konlpy) (3.1.0)\n",
      "Requirement already satisfied: urllib3<1.25,>=1.21.1 in /opt/conda/envs/Python36/lib/python3.6/site-packages (from requests>=2.11.1->tweepy>=3.7.0->konlpy) (1.24.1)\n",
      "Requirement already satisfied: idna<2.9,>=2.5 in /opt/conda/envs/Python36/lib/python3.6/site-packages (from requests>=2.11.1->tweepy>=3.7.0->konlpy) (2.8)\n",
      "Requirement already satisfied: certifi>=2017.4.17 in /opt/conda/envs/Python36/lib/python3.6/site-packages (from requests>=2.11.1->tweepy>=3.7.0->konlpy) (2020.4.5.1)\n",
      "Requirement already satisfied: chardet<3.1.0,>=3.0.2 in /opt/conda/envs/Python36/lib/python3.6/site-packages (from requests>=2.11.1->tweepy>=3.7.0->konlpy) (3.0.4)\n",
      "Requirement already satisfied: gensim in /opt/conda/envs/Python36/lib/python3.6/site-packages (3.8.3)\n",
      "Requirement already satisfied: numpy>=1.11.3 in /opt/conda/envs/Python36/lib/python3.6/site-packages (from gensim) (1.15.4)\n",
      "Requirement already satisfied: scipy>=0.18.1 in /opt/conda/envs/Python36/lib/python3.6/site-packages (from gensim) (1.2.0)\n",
      "Requirement already satisfied: smart-open>=1.8.1 in /opt/conda/envs/Python36/lib/python3.6/site-packages (from gensim) (2.0.0)\n",
      "Requirement already satisfied: six>=1.5.0 in /opt/conda/envs/Python36/lib/python3.6/site-packages (from gensim) (1.12.0)\n",
      "Requirement already satisfied: boto in /opt/conda/envs/Python36/lib/python3.6/site-packages (from smart-open>=1.8.1->gensim) (2.49.0)\n",
      "Requirement already satisfied: boto3 in /opt/conda/envs/Python36/lib/python3.6/site-packages (from smart-open>=1.8.1->gensim) (1.9.82)\n",
      "Requirement already satisfied: requests in /opt/conda/envs/Python36/lib/python3.6/site-packages (from smart-open>=1.8.1->gensim) (2.21.0)\n",
      "Requirement already satisfied: botocore<1.13.0,>=1.12.82 in /opt/conda/envs/Python36/lib/python3.6/site-packages (from boto3->smart-open>=1.8.1->gensim) (1.12.82)\n",
      "Requirement already satisfied: jmespath<1.0.0,>=0.7.1 in /opt/conda/envs/Python36/lib/python3.6/site-packages (from boto3->smart-open>=1.8.1->gensim) (0.9.3)\n",
      "Requirement already satisfied: s3transfer<0.2.0,>=0.1.10 in /opt/conda/envs/Python36/lib/python3.6/site-packages (from boto3->smart-open>=1.8.1->gensim) (0.1.13)\n",
      "Requirement already satisfied: chardet<3.1.0,>=3.0.2 in /opt/conda/envs/Python36/lib/python3.6/site-packages (from requests->smart-open>=1.8.1->gensim) (3.0.4)\n",
      "Requirement already satisfied: idna<2.9,>=2.5 in /opt/conda/envs/Python36/lib/python3.6/site-packages (from requests->smart-open>=1.8.1->gensim) (2.8)\n",
      "Requirement already satisfied: certifi>=2017.4.17 in /opt/conda/envs/Python36/lib/python3.6/site-packages (from requests->smart-open>=1.8.1->gensim) (2020.4.5.1)\n",
      "Requirement already satisfied: urllib3<1.25,>=1.21.1 in /opt/conda/envs/Python36/lib/python3.6/site-packages (from requests->smart-open>=1.8.1->gensim) (1.24.1)\n",
      "Requirement already satisfied: docutils>=0.10 in /opt/conda/envs/Python36/lib/python3.6/site-packages (from botocore<1.13.0,>=1.12.82->boto3->smart-open>=1.8.1->gensim) (0.14)\n",
      "Requirement already satisfied: python-dateutil<3.0.0,>=2.1 in /opt/conda/envs/Python36/lib/python3.6/site-packages (from botocore<1.13.0,>=1.12.82->boto3->smart-open>=1.8.1->gensim) (2.7.5)\n"
     ]
    }
   ],
   "source": [
    "! pip  install konlpy\n",
    "! pip install gensim"
   ]
  },
  {
   "cell_type": "code",
   "execution_count": 18,
   "metadata": {},
   "outputs": [
    {
     "name": "stdout",
     "output_type": "stream",
     "text": [
      "--2020-05-23 11:21:15--  https://docs.google.com/uc?export=download&confirm=aG08&id=1ud4DopDTWm0YBN_tpkvQ3Qax87UDgpcO\n",
      "Resolving docs.google.com (docs.google.com)... 172.217.1.238, 2607:f8b0:4000:817::200e\n",
      "Connecting to docs.google.com (docs.google.com)|172.217.1.238|:443... connected.\n",
      "HTTP request sent, awaiting response... 302 Moved Temporarily\n",
      "Location: https://doc-08-5s-docs.googleusercontent.com/docs/securesc/2v6ndjcjj4jr6h0vmho5d7dkoemkorl4/iiacfnlb333cc45fnod77liouou7obvk/1590232875000/04591858293269658552/09678327312534024421Z/1ud4DopDTWm0YBN_tpkvQ3Qax87UDgpcO?e=download [following]\n",
      "--2020-05-23 11:21:15--  https://doc-08-5s-docs.googleusercontent.com/docs/securesc/2v6ndjcjj4jr6h0vmho5d7dkoemkorl4/iiacfnlb333cc45fnod77liouou7obvk/1590232875000/04591858293269658552/09678327312534024421Z/1ud4DopDTWm0YBN_tpkvQ3Qax87UDgpcO?e=download\n",
      "Resolving doc-08-5s-docs.googleusercontent.com (doc-08-5s-docs.googleusercontent.com)... 172.217.12.33, 2607:f8b0:4000:80c::2001\n",
      "Connecting to doc-08-5s-docs.googleusercontent.com (doc-08-5s-docs.googleusercontent.com)|172.217.12.33|:443... connected.\n",
      "HTTP request sent, awaiting response... 302 Found\n",
      "Location: https://docs.google.com/nonceSigner?nonce=stt79a3ck02qu&continue=https://doc-08-5s-docs.googleusercontent.com/docs/securesc/2v6ndjcjj4jr6h0vmho5d7dkoemkorl4/iiacfnlb333cc45fnod77liouou7obvk/1590232875000/04591858293269658552/09678327312534024421Z/1ud4DopDTWm0YBN_tpkvQ3Qax87UDgpcO?e%3Ddownload&hash=i7nnsg36cmtsfjutgiuci6m5826cv396 [following]\n",
      "--2020-05-23 11:21:15--  https://docs.google.com/nonceSigner?nonce=stt79a3ck02qu&continue=https://doc-08-5s-docs.googleusercontent.com/docs/securesc/2v6ndjcjj4jr6h0vmho5d7dkoemkorl4/iiacfnlb333cc45fnod77liouou7obvk/1590232875000/04591858293269658552/09678327312534024421Z/1ud4DopDTWm0YBN_tpkvQ3Qax87UDgpcO?e%3Ddownload&hash=i7nnsg36cmtsfjutgiuci6m5826cv396\n",
      "Connecting to docs.google.com (docs.google.com)|172.217.1.238|:443... connected.\n",
      "HTTP request sent, awaiting response... 302 Found\n",
      "Location: https://doc-08-5s-docs.googleusercontent.com/docs/securesc/2v6ndjcjj4jr6h0vmho5d7dkoemkorl4/iiacfnlb333cc45fnod77liouou7obvk/1590232875000/04591858293269658552/09678327312534024421Z/1ud4DopDTWm0YBN_tpkvQ3Qax87UDgpcO?e=download&nonce=stt79a3ck02qu&user=09678327312534024421Z&hash=2jhv6501hqa68b61al0lcerfp2k2vgih [following]\n",
      "--2020-05-23 11:21:15--  https://doc-08-5s-docs.googleusercontent.com/docs/securesc/2v6ndjcjj4jr6h0vmho5d7dkoemkorl4/iiacfnlb333cc45fnod77liouou7obvk/1590232875000/04591858293269658552/09678327312534024421Z/1ud4DopDTWm0YBN_tpkvQ3Qax87UDgpcO?e=download&nonce=stt79a3ck02qu&user=09678327312534024421Z&hash=2jhv6501hqa68b61al0lcerfp2k2vgih\n",
      "Connecting to doc-08-5s-docs.googleusercontent.com (doc-08-5s-docs.googleusercontent.com)|172.217.12.33|:443... connected.\n",
      "HTTP request sent, awaiting response... 200 OK\n",
      "Length: unspecified [application/zip]\n",
      "Saving to: ‘NaverMovie.model.zip’\n",
      "\n",
      "    [    <=>                                ] 72,411,034   106MB/s   in 0.7s   \n",
      "\n",
      "2020-05-23 11:21:15 (106 MB/s) - ‘NaverMovie.model.zip’ saved [72411034]\n",
      "\n"
     ]
    }
   ],
   "source": [
    "! wget --load-cookies cookies.txt \"https://docs.google.com/uc?export=download&confirm=$(wget --quiet --save-cookies cookies.txt --keep-session-cookies --no-check-certificate 'https://docs.google.com/uc?export=download&id=1ud4DopDTWm0YBN_tpkvQ3Qax87UDgpcO' -O- | sed -rn 's/.*confirm=([0-9A-Za-z_]+).*/\\1\\n/p')&id=1ud4DopDTWm0YBN_tpkvQ3Qax87UDgpcO\" -O NaverMovie.model.zip && rm -rf cookies.txt"
   ]
  },
  {
   "cell_type": "code",
   "execution_count": 19,
   "metadata": {},
   "outputs": [
    {
     "name": "stdout",
     "output_type": "stream",
     "text": [
      "total 70720\r\n",
      "drwxrwxr-x 2 dsxuser dsxuser     4096 Oct 13  2019 __MACOSX\r\n",
      "-rw-r----- 1 dsxuser dsxuser 72411034 May 23 11:21 NaverMovie.model.zip\r\n"
     ]
    }
   ],
   "source": [
    "! ls -l "
   ]
  },
  {
   "cell_type": "code",
   "execution_count": 20,
   "metadata": {},
   "outputs": [
    {
     "name": "stdout",
     "output_type": "stream",
     "text": [
      "Archive:  NaverMovie.model.zip\n",
      "  inflating: NaverMovie.model        \n",
      "  inflating: __MACOSX/._NaverMovie.model  \n"
     ]
    }
   ],
   "source": [
    "! unzip -o NaverMovie.model.zip"
   ]
  },
  {
   "cell_type": "code",
   "execution_count": 21,
   "metadata": {},
   "outputs": [],
   "source": [
    " import csv\n",
    " from konlpy.tag import Okt\n",
    " from gensim.models import word2vec"
   ]
  },
  {
   "cell_type": "code",
   "execution_count": 22,
   "metadata": {},
   "outputs": [
    {
     "name": "stdout",
     "output_type": "stream",
     "text": [
      "***배트맨*****\n",
      "[('비긴즈', 0.7024390697479248), ('신용카드', 0.6246640682220459), ('포에버', 0.6128871440887451), ('다크나이트', 0.5437884330749512), ('조엘', 0.5344933867454529), ('담시', 0.5325262546539307), ('시리즈', 0.5035833716392517), ('버튼', 0.49162429571151733), ('배트', 0.48448026180267334), ('베트맨', 0.48180198669433594)]\n",
      "***겨울왕국*****\n",
      "[('라푼젤', 0.6613779067993164), ('라이언킹', 0.5773433446884155), ('애니', 0.551832914352417), ('토이스토리', 0.5433341264724731), ('프로즌', 0.5401562452316284), ('더빙', 0.537048876285553), ('애니메이션', 0.5346932411193848), ('더파이팅', 0.5277788639068604), ('어린이날', 0.5253665447235107), ('디즈니', 0.522940993309021)]\n"
     ]
    }
   ],
   "source": [
    "model = word2vec.Word2Vec.load(\"NaverMovie.model\")\n",
    "print(\"***배트맨*****\")\n",
    "print(model.wv.most_similar(positive=[\"배트맨\"]))\n",
    "print(\"***겨울왕국*****\")\n",
    "print(model.wv.most_similar(positive=[\"겨울왕국\"]))"
   ]
  }
 ],
 "metadata": {
  "kernelspec": {
   "display_name": "Python 3.6",
   "language": "python",
   "name": "python3"
  },
  "language_info": {
   "codemirror_mode": {
    "name": "ipython",
    "version": 3
   },
   "file_extension": ".py",
   "mimetype": "text/x-python",
   "name": "python",
   "nbconvert_exporter": "python",
   "pygments_lexer": "ipython3",
   "version": "3.6.9"
  }
 },
 "nbformat": 4,
 "nbformat_minor": 2
}
